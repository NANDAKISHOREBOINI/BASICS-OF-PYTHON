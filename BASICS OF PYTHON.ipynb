{
 "cells": [
  {
   "cell_type": "code",
   "execution_count": 230,
   "id": "8cb9afe8-311e-411b-a003-11c3a9cebc84",
   "metadata": {},
   "outputs": [
    {
     "name": "stdout",
     "output_type": "stream",
     "text": [
      "2 is a prime number.\n",
      "3 is a prime number.\n",
      "4 is not a prime number.\n",
      "7 is a prime number.\n",
      "13 is a prime number.\n",
      "21 is not a prime number.\n",
      "37 is a prime number.\n",
      "49 is not a prime number.\n"
     ]
    }
   ],
   "source": [
    "#prime numbers\n",
    "def is_prime(number):\n",
    "    if number <= 1:\n",
    "        return False  \n",
    "\n",
    "    for divisor in range(2, int(number**0.5) + 1):\n",
    "        if number % divisor == 0:\n",
    "            return False  \n",
    "    return True  \n",
    "\n",
    "test = [2,3,4,7,13,21,37,49]\n",
    "for num in test:\n",
    "    if is_prime(num):\n",
    "        print(f\"{num} is a prime number.\")\n",
    "    else:\n",
    "        print(f\"{num} is not a prime number.\")\n"
   ]
  },
  {
   "cell_type": "code",
   "execution_count": 232,
   "id": "2edc85f1-6a16-4aa1-aa8c-6f5268a3a4c6",
   "metadata": {},
   "outputs": [
    {
     "name": "stdin",
     "output_type": "stream",
     "text": [
      "What is the product of 3 and 1?  3\n"
     ]
    },
    {
     "name": "stdout",
     "output_type": "stream",
     "text": [
      "Correct!You're a multiplication wizard!\n"
     ]
    }
   ],
   "source": [
    "#product of random numbers\n",
    "import random\n",
    "\n",
    "def generate_random_numbers():\n",
    "    num1 = random.randint(1,9)  \n",
    "    num2 = random.randint(1,9)\n",
    "    return num1, num2\n",
    "\n",
    "def main():\n",
    "    num1, num2 = generate_random_numbers()\n",
    "    correct_product = num1 * num2\n",
    "    user_answer = int(input(f\"What is the product of {num1} and {num2}? \"))\n",
    "\n",
    "    if user_answer == correct_product:\n",
    "        print(\"Correct!You're a multiplication wizard!\")\n",
    "    else:\n",
    "        print(\"Oops!The correct answer was {correct_product}.Keep practicing!\")\n",
    "\n",
    "if __name__ == \"__main__\":\n",
    "    main()"
   ]
  },
  {
   "cell_type": "code",
   "execution_count": 41,
   "id": "0000a9d9-f625-4ab4-bbeb-44b16399d7d2",
   "metadata": {},
   "outputs": [
    {
     "name": "stdout",
     "output_type": "stream",
     "text": [
      "the square of 100 is 10000\n",
      "the square of 102 is 10404\n",
      "the square of 104 is 10816\n",
      "the square of 106 is 11236\n",
      "the square of 108 is 11664\n",
      "the square of 110 is 12100\n",
      "the square of 112 is 12544\n",
      "the square of 114 is 12996\n",
      "the square of 116 is 13456\n",
      "the square of 118 is 13924\n",
      "the square of 120 is 14400\n",
      "the square of 122 is 14884\n",
      "the square of 124 is 15376\n",
      "the square of 126 is 15876\n",
      "the square of 128 is 16384\n",
      "the square of 130 is 16900\n",
      "the square of 132 is 17424\n",
      "the square of 134 is 17956\n",
      "the square of 136 is 18496\n",
      "the square of 138 is 19044\n",
      "the square of 140 is 19600\n",
      "the square of 142 is 20164\n",
      "the square of 144 is 20736\n",
      "the square of 146 is 21316\n",
      "the square of 148 is 21904\n",
      "the square of 150 is 22500\n",
      "the square of 152 is 23104\n",
      "the square of 154 is 23716\n",
      "the square of 156 is 24336\n",
      "the square of 158 is 24964\n",
      "the square of 160 is 25600\n",
      "the square of 162 is 26244\n",
      "the square of 164 is 26896\n",
      "the square of 166 is 27556\n",
      "the square of 168 is 28224\n",
      "the square of 170 is 28900\n",
      "the square of 172 is 29584\n",
      "the square of 174 is 30276\n",
      "the square of 176 is 30976\n",
      "the square of 178 is 31684\n",
      "the square of 180 is 32400\n",
      "the square of 182 is 33124\n",
      "the square of 184 is 33856\n",
      "the square of 186 is 34596\n",
      "the square of 188 is 35344\n",
      "the square of 190 is 36100\n",
      "the square of 192 is 36864\n",
      "the square of 194 is 37636\n",
      "the square of 196 is 38416\n",
      "the square of 198 is 39204\n",
      "the square of 200 is 40000\n"
     ]
    }
   ],
   "source": [
    "#square of even/odd numbers\n",
    "def print_even_squares(start,end):\n",
    "    for num in range(start,end+1):\n",
    "        if num%2==0:\n",
    "            print(f\"the square of {num} is {num**2}\")\n",
    "start_range=100\n",
    "end_range=200\n",
    "print_even_squares(start_range,end_range)"
   ]
  },
  {
   "cell_type": "code",
   "execution_count": 35,
   "id": "8ef14f48-6d02-47d3-ac9c-fd84f15310c1",
   "metadata": {},
   "outputs": [
    {
     "name": "stdout",
     "output_type": "stream",
     "text": [
      "the square of 101 is 10201\n",
      "the square of 103 is 10609\n",
      "the square of 105 is 11025\n",
      "the square of 107 is 11449\n",
      "the square of 109 is 11881\n",
      "the square of 111 is 12321\n",
      "the square of 113 is 12769\n",
      "the square of 115 is 13225\n",
      "the square of 117 is 13689\n",
      "the square of 119 is 14161\n",
      "the square of 121 is 14641\n",
      "the square of 123 is 15129\n",
      "the square of 125 is 15625\n",
      "the square of 127 is 16129\n",
      "the square of 129 is 16641\n",
      "the square of 131 is 17161\n",
      "the square of 133 is 17689\n",
      "the square of 135 is 18225\n",
      "the square of 137 is 18769\n",
      "the square of 139 is 19321\n",
      "the square of 141 is 19881\n",
      "the square of 143 is 20449\n",
      "the square of 145 is 21025\n",
      "the square of 147 is 21609\n",
      "the square of 149 is 22201\n",
      "the square of 151 is 22801\n",
      "the square of 153 is 23409\n",
      "the square of 155 is 24025\n",
      "the square of 157 is 24649\n",
      "the square of 159 is 25281\n",
      "the square of 161 is 25921\n",
      "the square of 163 is 26569\n",
      "the square of 165 is 27225\n",
      "the square of 167 is 27889\n",
      "the square of 169 is 28561\n",
      "the square of 171 is 29241\n",
      "the square of 173 is 29929\n",
      "the square of 175 is 30625\n",
      "the square of 177 is 31329\n",
      "the square of 179 is 32041\n",
      "the square of 181 is 32761\n",
      "the square of 183 is 33489\n",
      "the square of 185 is 34225\n",
      "the square of 187 is 34969\n",
      "the square of 189 is 35721\n",
      "the square of 191 is 36481\n",
      "the square of 193 is 37249\n",
      "the square of 195 is 38025\n",
      "the square of 197 is 38809\n",
      "the square of 199 is 39601\n"
     ]
    }
   ],
   "source": [
    "def print_odd_squares(start,end):\n",
    "    for num in range(start,end+1):\n",
    "        if num%2!=0:\n",
    "            print(f\"the square of {num} is {num**2}\")\n",
    "start_range=100\n",
    "end_range=200\n",
    "print_odd_squares(start_range,end_range)"
   ]
  },
  {
   "cell_type": "code",
   "execution_count": 226,
   "id": "bd4db826-417d-45bf-8d73-bbb02adfa5f5",
   "metadata": {},
   "outputs": [
    {
     "name": "stdin",
     "output_type": "stream",
     "text": [
      "enter your text: \"This is a sample text. This text will be used to demonstrate the word counter.\"\n"
     ]
    },
    {
     "name": "stdout",
     "output_type": "stream",
     "text": [
      "total words in the text:Counter({'this': 2, 'text': 2, 'is': 1, 'a': 1, 'sample': 1, 'will': 1, 'be': 1, 'used': 1, 'to': 1, 'demonstrate': 1, 'the': 1, 'word': 1, 'counter': 1})\n"
     ]
    }
   ],
   "source": [
    "#word counter\n",
    "import re\n",
    "from collections import Counter\n",
    "def count_words_frequencies(text):\n",
    "    cleaned_text=re.sub(r'[^\\w\\s]','',text.lower())\n",
    "    words=cleaned_text.split()\n",
    "    word_counts=Counter(words)\n",
    "    return (word_counts)\n",
    "user_text=input(\"enter your text:\")\n",
    "word_frequencies=count_words_frequencies(user_text)\n",
    "print(f\"total words in the text:{word_frequencies}\")"
   ]
  },
  {
   "cell_type": "code",
   "execution_count": 228,
   "id": "ff5455c4-4ae3-4367-ba15-a8cdbdcf7b36",
   "metadata": {},
   "outputs": [
    {
     "name": "stdin",
     "output_type": "stream",
     "text": [
      "enter a word or phrase racecar\n"
     ]
    },
    {
     "name": "stdout",
     "output_type": "stream",
     "text": [
      "'racecar'is a palindrome\n"
     ]
    }
   ],
   "source": [
    "#palindrome\n",
    "def is_palindrome(a):\n",
    "    cleaned_a=''.join(c.lower() for c in a if c.isalnum)\n",
    "    return cleaned_a==cleaned_a[::-1]\n",
    "user_input=input(\"enter a word or phrase\")\n",
    "result=is_palindrome(user_input)\n",
    "if result:\n",
    "    print(f\"'{user_input}'is a palindrome\")\n",
    "else:\n",
    "    print(f\"'{user_input}'is not a palindrome\")"
   ]
  }
 ],
 "metadata": {
  "kernelspec": {
   "display_name": "Python 3 (ipykernel)",
   "language": "python",
   "name": "python3"
  },
  "language_info": {
   "codemirror_mode": {
    "name": "ipython",
    "version": 3
   },
   "file_extension": ".py",
   "mimetype": "text/x-python",
   "name": "python",
   "nbconvert_exporter": "python",
   "pygments_lexer": "ipython3",
   "version": "3.12.4"
  }
 },
 "nbformat": 4,
 "nbformat_minor": 5
}
